{
  "nbformat": 4,
  "nbformat_minor": 0,
  "metadata": {
    "colab": {
      "provenance": []
    },
    "kernelspec": {
      "name": "python3",
      "display_name": "Python 3"
    },
    "language_info": {
      "name": "python"
    }
  },
  "cells": [
    {
      "cell_type": "markdown",
      "source": [
        "# Elliptic Curves: Starter Challenges\n",
        "\n",
        "## Background\n",
        "\n",
        "> The flag is the name we give groups with a commutative operation.\n",
        "\n",
        "These are Abelian groups. The flag is `crypto{Abelian}`.\n",
        "\n",
        "## Starter 1: Point Negation\n",
        "\n",
        "> `E: Y^2 = X^3 + 497 X + 1768, p: 9739`\n",
        "\n",
        "> `P(8045,6936)`\n",
        "\n",
        "> Find the point `Q(x, y)` such that `P + Q = O`.\n",
        "\n",
        "To negate a point, we need to find some point which we can connect to P with a line, where the line then does not hit the curve. We do this by creating a vertical line, so the point -P is directly below P on the curve. This implies we should just need to flip the y coordinate, and leave x unchanged.\n",
        "\n",
        "Solution: `Q = - P = (8045, 9739 - 6936) = (8045, 2803)`.\n",
        "\n",
        "That makes the flag `crypto{8045, 2803}`.\n",
        "\n",
        "## Starter 2: Point Addition\n",
        "\n",
        "> `E: Y^2 = X^3 + 497 X + 1768, p: 9739`\n",
        "\n",
        "> Using the above curve, and the points `P = (493, 5564), Q = (1539, 4742), R = (4403,5202)`, find the point `S(x,y) = P + P + Q + R` by implementing the above algorithm.\n",
        "\n",
        "Let me use this helper class:"
      ],
      "metadata": {
        "id": "cZEavG580EV8"
      }
    },
    {
      "cell_type": "code",
      "source": [
        "class EllipticCurve:\n",
        "    def __init__(self, a, b, p):\n",
        "        self.a = a \n",
        "        self.b = b \n",
        "        self.p = p \n",
        "\n",
        "class Point:\n",
        "    def __init__(self, x=False, y=False):\n",
        "        self.x = x \n",
        "        self.y = y\n",
        "        # Is this a point at infinity?\n",
        "        self.o = not (type(x) == int and type(y) == int)\n",
        " \n",
        "\n",
        "    def __eq__(self, q): \n",
        "        return (self.x == q.x and self.y == q.y) or (self.o and q.o)\n",
        "\n",
        "    def __ne__(self, q): \n",
        "        return not (self == q)"
      ],
      "metadata": {
        "id": "GOUK3-xW5bLA"
      },
      "execution_count": 31,
      "outputs": []
    },
    {
      "cell_type": "markdown",
      "source": [
        "This is the algorithm given in the theory:"
      ],
      "metadata": {
        "id": "lJo2Z5zg5vvG"
      }
    },
    {
      "cell_type": "code",
      "source": [
        "def point_add(p, q, ec):\n",
        "    if p.o:\n",
        "        return q\n",
        "    if q.o:\n",
        "        return p\n",
        "    if p.x == q.x and p.y == -q.y:\n",
        "        return Point()\n",
        "\n",
        "    if p != q:\n",
        "        x_inv = pow(q.x - p.x, -1, ec.p)\n",
        "        lam = ((q.y - p.y) * x_inv) % ec.p\n",
        "    else:\n",
        "        y_inv = pow(2 * p.y, -1, ec.p)\n",
        "        lam = (((3*(p.x**2)) + ec.a) * y_inv) % ec.p\n",
        "\n",
        "    res_x = ((lam**2) - p.x - q.x) % ec.p\n",
        "    res_y = ((lam * (p.x - res_x)) - p.y) % ec.p\n",
        "    \n",
        "    return Point(res_x, res_y)"
      ],
      "metadata": {
        "id": "SWgkgCrK59aY"
      },
      "execution_count": 32,
      "outputs": []
    },
    {
      "cell_type": "markdown",
      "source": [
        "Which we can now use on the given curve and the given points:"
      ],
      "metadata": {
        "id": "1WsAMU9u7ezB"
      }
    },
    {
      "cell_type": "code",
      "source": [
        "ec = EllipticCurve(497, 1768, 9739)\n",
        "\n",
        "p = Point(493, 5564)\n",
        "q = Point(1539, 4742)\n",
        "r = Point(4403, 5202)\n",
        "\n",
        "result = point_add(point_add(point_add(p, p, ec), q, ec), r, ec)\n",
        "\n",
        "print(\"crypto{\" + str(result.x) + \",\" + str(result.y) + \"}\")"
      ],
      "metadata": {
        "colab": {
          "base_uri": "https://localhost:8080/"
        },
        "id": "TW7S-lU27hER",
        "outputId": "59c9a12d-090e-4ef8-bfcf-15e831249e3b"
      },
      "execution_count": 33,
      "outputs": [
        {
          "output_type": "stream",
          "name": "stdout",
          "text": [
            "crypto{4215,2162}\n"
          ]
        }
      ]
    },
    {
      "cell_type": "markdown",
      "source": [
        "## Starter 3: Scalar Multiplication\n",
        "\n",
        "> Using the above curve, and the points P = (2339, 2213), find the point Q(x,y) = 7863 P by implementing the above algorithm.\n",
        "\n"
      ],
      "metadata": {
        "id": "T8A0P4I1iGC2"
      }
    },
    {
      "cell_type": "code",
      "source": [
        "def is_odd(n):\n",
        "    return n % 2 == 1\n",
        "\n",
        "def scalar_mult(p, n, ec):\n",
        "    q = Point(p.x, p.y)\n",
        "    r = Point()\n",
        "    while n > 0:\n",
        "        if is_odd(n):\n",
        "            r = point_add(r, q, ec)\n",
        "        q = point_add(q, q, ec)\n",
        "        n //= 2\n",
        "    return r"
      ],
      "metadata": {
        "id": "FVxia_mqiIeb"
      },
      "execution_count": 34,
      "outputs": []
    },
    {
      "cell_type": "markdown",
      "source": [
        "We're given a test case:"
      ],
      "metadata": {
        "id": "D93vQZACign0"
      }
    },
    {
      "cell_type": "code",
      "source": [
        "test_point = Point(5323, 5438)\n",
        "test_result = scalar_mult(test_point, 1337, ec)\n",
        "assert test_result.x == 1089\n",
        "assert test_result.y == 6931"
      ],
      "metadata": {
        "id": "owR8qow1iObJ"
      },
      "execution_count": 35,
      "outputs": []
    },
    {
      "cell_type": "markdown",
      "source": [
        "Yay! The solution:"
      ],
      "metadata": {
        "id": "HlvPoVWsjgEV"
      }
    },
    {
      "cell_type": "code",
      "source": [
        "p = Point(2339, 2213)\n",
        "result = scalar_mult(p, 7863, ec)\n",
        "print(\"crypto{\" + str(result.x) + \",\" + str(result.y) + \"}\")"
      ],
      "metadata": {
        "colab": {
          "base_uri": "https://localhost:8080/"
        },
        "id": "ipwjOOG2jkrq",
        "outputId": "dd42ee02-91b2-4d51-a930-3d07d5b68253"
      },
      "execution_count": 36,
      "outputs": [
        {
          "output_type": "stream",
          "name": "stdout",
          "text": [
            "crypto{9467,2742}\n"
          ]
        }
      ]
    },
    {
      "cell_type": "markdown",
      "source": [
        "## Starter 4: Curves and Logs\n",
        "\n",
        "> Calculate the shared secret after Alice sends you QA = (815, 3190), with your secret integer nB = 1829.\n",
        "\n",
        "\n",
        "> Generate a key by calculating the SHA1 hash of the x coordinate (take the decimal representation of the coordinate and cast it to a string). The flag is the hexdigest you find.\n"
      ],
      "metadata": {
        "id": "5HorABjzkVxq"
      }
    },
    {
      "cell_type": "code",
      "source": [
        "from hashlib import sha1\n",
        "\n",
        "ec = EllipticCurve(497, 1768, 9739)\n",
        "\n",
        "qa = Point(815, 3190)\n",
        "shared_secret = scalar_mult(qa, 1829, ec)\n",
        "\n",
        "hash = sha1(str(shared_secret.x).encode()).hexdigest()\n",
        "\n",
        "print(\"crypto{\" + hash + \"}\")"
      ],
      "metadata": {
        "colab": {
          "base_uri": "https://localhost:8080/"
        },
        "id": "8f2dKtckkbjs",
        "outputId": "f7066830-5c36-450e-e070-7b4fbfb4e700"
      },
      "execution_count": 37,
      "outputs": [
        {
          "output_type": "stream",
          "name": "stdout",
          "text": [
            "crypto{80e5212754a824d3a4aed185ace4f9cac0f908bf}\n"
          ]
        }
      ]
    },
    {
      "cell_type": "markdown",
      "source": [
        "## Starter 5: Efficient Exchange\n",
        "\n",
        "> Calculate the shared secret after Alice sends you q_x = 4726, with your secret integer nB = 6534.\n",
        "\n",
        "> Use the decrypt.py file to decode the flag\n",
        "\n",
        "This file for decryption is given. Using q_x and the Weierstrass equation, we can calculate x and y."
      ],
      "metadata": {
        "id": "DXsFxdXLlToI"
      }
    },
    {
      "cell_type": "code",
      "source": [
        "given_x = 4726\n",
        "y_squared =  ((given_x ** 3) + (497 * given_x) + 1768) % 9739\n",
        "given_y = pow(5507, (9740 // 4), 9739)\n",
        "\n",
        "\n",
        "qa = Point(given_x, given_y)\n",
        "shared_secret = scalar_mult(qa, 6534, ec)"
      ],
      "metadata": {
        "id": "NsYyhVY0lf8V"
      },
      "execution_count": 38,
      "outputs": []
    },
    {
      "cell_type": "code",
      "source": [
        "given_message = {\n",
        "    'iv': 'cd9da9f1c60925922377ea952afc212c', \n",
        "    'encrypted_flag': 'febcbe3a3414a730b125931dccf912d2239f3e969c4334d95ed0ec86f6449ad8'\n",
        "}"
      ],
      "metadata": {
        "id": "tQtT7s5Rlf9I"
      },
      "execution_count": 39,
      "outputs": []
    },
    {
      "cell_type": "code",
      "source": [
        "!pip install pycryptodome"
      ],
      "metadata": {
        "colab": {
          "base_uri": "https://localhost:8080/"
        },
        "id": "ClIVoL0smvgC",
        "outputId": "d5068ce5-fbc3-44c7-c718-d6af92010431"
      },
      "execution_count": 40,
      "outputs": [
        {
          "output_type": "stream",
          "name": "stdout",
          "text": [
            "Looking in indexes: https://pypi.org/simple, https://us-python.pkg.dev/colab-wheels/public/simple/\n",
            "Requirement already satisfied: pycryptodome in /usr/local/lib/python3.9/dist-packages (3.17)\n"
          ]
        }
      ]
    },
    {
      "cell_type": "code",
      "source": [
        "from Crypto.Cipher import AES\n",
        "from Crypto.Util.Padding import pad, unpad\n",
        "import hashlib\n",
        "\n",
        "\n",
        "def is_pkcs7_padded(message):\n",
        "    padding = message[-message[-1]:]\n",
        "    return all(padding[i] == len(padding) for i in range(0, len(padding)))\n",
        "\n",
        "\n",
        "def decrypt_flag(shared_secret: int, iv: str, ciphertext: str):\n",
        "    # Derive AES key from shared secret\n",
        "    sha1 = hashlib.sha1()\n",
        "    sha1.update(str(shared_secret).encode('ascii'))\n",
        "    key = sha1.digest()[:16]\n",
        "    # Decrypt flag\n",
        "    ciphertext = bytes.fromhex(ciphertext)\n",
        "    iv = bytes.fromhex(iv)\n",
        "    cipher = AES.new(key, AES.MODE_CBC, iv)\n",
        "    plaintext = cipher.decrypt(ciphertext)\n",
        "\n",
        "    if is_pkcs7_padded(plaintext):\n",
        "        return unpad(plaintext, 16).decode('ascii')\n",
        "    else:\n",
        "        return plaintext.decode('ascii')\n",
        "\n",
        "\n",
        "print(decrypt_flag(shared_secret.x, given_message['iv'], given_message['encrypted_flag']))"
      ],
      "metadata": {
        "colab": {
          "base_uri": "https://localhost:8080/"
        },
        "id": "MndYyldZmiPs",
        "outputId": "cf2ffffc-86c8-4a39-9db3-b07f2eaf19b3"
      },
      "execution_count": 42,
      "outputs": [
        {
          "output_type": "stream",
          "name": "stdout",
          "text": [
            "crypto{3ff1c1ent_k3y_3xch4ng3}\n"
          ]
        }
      ]
    }
  ]
}
