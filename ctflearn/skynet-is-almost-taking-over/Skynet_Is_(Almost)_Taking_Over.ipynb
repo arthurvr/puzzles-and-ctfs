{
  "nbformat": 4,
  "nbformat_minor": 0,
  "metadata": {
    "colab": {
      "provenance": []
    },
    "kernelspec": {
      "name": "python3",
      "display_name": "Python 3"
    },
    "language_info": {
      "name": "python"
    }
  },
  "cells": [
    {
      "cell_type": "markdown",
      "source": [
        "# Skynet Is (Almost) Taking Over\n",
        "\n",
        "> Skynet is using a very small list of primes for RSA style encryption purposes. In fact their list is only the size of the smallest odd prime. One of the robots sent a message to three other robots. These are futuristic robots with the ability to use quantum computing and so they don't mind prime factoring huge numbers.You can't do that though. Find out what message the robot sent to his friends. Flag is in flag{} format. \n",
        "\n",
        "These numbers are given:"
      ],
      "metadata": {
        "id": "q7UBQquUNQX1"
      }
    },
    {
      "cell_type": "code",
      "source": [
        "e = 65537\n",
        "\n",
        "c1 = 5024836662627906750454817701922271080214720765897113783786369197810770999608528443597447448508876214100063962982376037712548944474807897847869334582773452689962992522987755069402952836848501053684233233850594080254869\n",
        "n1 = 10603199174122839808738169357706062732533966731323858892743816728206914395320609331466257631096646511986506501272036007668358071304364156150345138983648630874220488837685118753574424686204595981514561343227316297317899\n",
        "\n",
        "c2 = 130884437483098301339042672379318680582507704056215246672305503902799253294397268030727540524911640778691710963573363763216872030631281953772411963153320471648783848323158455504315739311667392161460121273259241311534\n",
        "n2 = 5613358668671613665566510382994441407219432062998832523305840186970780370368271618683122274081615792349154210168307159475914213081021759597948038689876676892007399580995868266543309872185843728429426430822156211839073\n",
        "\n",
        "c3 = 40136988332296795741662524458025734893351353026652568277369126873536130787573840288544348201399567767278683800132245661707440297299339161485942455489387697524794283615358478900857853907316854396647838513117062760230880\n",
        "n3 = 43197226819995414250880489055413585390503681019180594772781599842207471693041753129885439403306011423063922105541557658194092177558145184151460920732675652134876335722840331008185551706229533179802997366680787866083523"
      ],
      "metadata": {
        "id": "NAM6l8A1NV7N"
      },
      "execution_count": 2,
      "outputs": []
    },
    {
      "cell_type": "markdown",
      "source": [
        "As always I just tried entering `n1` [in factorDB](http://factordb.com/index.php?query=10603199174122839808738169357706062732533966731323858892743816728206914395320609331466257631096646511986506501272036007668358071304364156150345138983648630874220488837685118753574424686204595981514561343227316297317899). Success!\n",
        "\n"
      ],
      "metadata": {
        "id": "SPPAYZArNbQ-"
      }
    },
    {
      "cell_type": "code",
      "source": [
        "p1 = 1173821128899717744763168991586024137475923012574062580049287532012184965219319828285650431646942194944437493\n",
        "q1 = 9033062119150775356115605417902072538098631081058159551678022048966520848600866260935959311606867286026034943\n",
        "\n",
        "assert(p1 * q1 == n1)"
      ],
      "metadata": {
        "id": "-SUBVbn1NoC7"
      },
      "execution_count": 7,
      "outputs": []
    },
    {
      "cell_type": "markdown",
      "source": [
        "So let me try to decrypt the ciphertext:"
      ],
      "metadata": {
        "id": "e4WLcIuaOI06"
      }
    },
    {
      "cell_type": "code",
      "source": [
        "totient = (p1 - 1) * (q1 - 1)\n",
        "d1 = pow(e, -1, totient)\n",
        "plaintext = pow(c1, d1, n1)"
      ],
      "metadata": {
        "id": "KlTqQO-7OKx3"
      },
      "execution_count": 9,
      "outputs": []
    },
    {
      "cell_type": "markdown",
      "source": [
        "And let's try to convert the result to text:"
      ],
      "metadata": {
        "id": "vAUQExvlOdhX"
      }
    },
    {
      "cell_type": "code",
      "source": [
        "!pip install pycryptodome"
      ],
      "metadata": {
        "colab": {
          "base_uri": "https://localhost:8080/"
        },
        "id": "hq1Xg1XqOhw_",
        "outputId": "f3b531b0-fb6c-48fa-fc05-def21e507d71"
      },
      "execution_count": 10,
      "outputs": [
        {
          "output_type": "stream",
          "name": "stdout",
          "text": [
            "Looking in indexes: https://pypi.org/simple, https://us-python.pkg.dev/colab-wheels/public/simple/\n",
            "Collecting pycryptodome\n",
            "  Downloading pycryptodome-3.17-cp35-abi3-manylinux_2_17_x86_64.manylinux2014_x86_64.whl (2.1 MB)\n",
            "\u001b[2K     \u001b[90m━━━━━━━━━━━━━━━━━━━━━━━━━━━━━━━━━━━━━━━━\u001b[0m \u001b[32m2.1/2.1 MB\u001b[0m \u001b[31m22.4 MB/s\u001b[0m eta \u001b[36m0:00:00\u001b[0m\n",
            "\u001b[?25hInstalling collected packages: pycryptodome\n",
            "Successfully installed pycryptodome-3.17\n"
          ]
        }
      ]
    },
    {
      "cell_type": "code",
      "source": [
        "from Crypto.Util.number import long_to_bytes\n",
        "print(long_to_bytes(plaintext))"
      ],
      "metadata": {
        "colab": {
          "base_uri": "https://localhost:8080/"
        },
        "id": "07v-3_04OfOt",
        "outputId": "7df9fae7-49b3-4806-c307-9203aa1c929b"
      },
      "execution_count": 11,
      "outputs": [
        {
          "output_type": "stream",
          "name": "stdout",
          "text": [
            "b'flag{will_he_be_back}'\n"
          ]
        }
      ]
    }
  ]
}