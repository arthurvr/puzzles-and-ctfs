{
  "nbformat": 4,
  "nbformat_minor": 0,
  "metadata": {
    "colab": {
      "provenance": []
    },
    "kernelspec": {
      "name": "python3",
      "display_name": "Python 3"
    },
    "language_info": {
      "name": "python"
    }
  },
  "cells": [
    {
      "cell_type": "markdown",
      "source": [
        "# 5x5 Crypto\n",
        "\n",
        "> Ever heard of the 5x5 secret message system? If not, basically it's a 5x5 grid with all letters of the alphabet in order, without k because c is represented to make the k sound only. Google it if you need to. A letter is identified by Row-Column. All values are in caps. Try: 1-3,4-4,2-1,{,4-4,2-3,4-5,3-2,1-2,4-3,_,4-5,3-5,}\n",
        "\n",
        "\n",
        "Let's create the 5x5 grid using numpy:\n"
      ],
      "metadata": {
        "id": "9mR4AArNGx-K"
      }
    },
    {
      "cell_type": "code",
      "source": [
        "import numpy as np\n",
        "\n",
        "grid = np.arange(65, 90)\n",
        "grid = grid.reshape(5, 5)\n",
        "grid = np.where(grid < 75, grid, grid+1)\n",
        "print(grid)"
      ],
      "metadata": {
        "colab": {
          "base_uri": "https://localhost:8080/"
        },
        "id": "HP2OHKp6G_UE",
        "outputId": "0be8165d-8329-4fa5-8eaa-17996600f6c6"
      },
      "execution_count": 10,
      "outputs": [
        {
          "output_type": "stream",
          "name": "stdout",
          "text": [
            "[[65 66 67 68 69]\n",
            " [70 71 72 73 74]\n",
            " [76 77 78 79 80]\n",
            " [81 82 83 84 85]\n",
            " [86 87 88 89 90]]\n"
          ]
        }
      ]
    },
    {
      "cell_type": "markdown",
      "source": [
        "And now let's try to decrypt the given text:"
      ],
      "metadata": {
        "id": "kAXg1FPAIGMw"
      }
    },
    {
      "cell_type": "code",
      "source": [
        "ciphertext = [\"1-3\",\"4-4\",\"2-1\",\"{\",\"4-4\",\"2-3\",\"4-5\",\"3-2\",\"1-2\",\"4-3\",\"_\",\"4-5\",\"3-5\", \"}\"]\n",
        "plaintext = \"\"\n",
        "\n",
        "for char in ciphertext:\n",
        "  if char == \"}\" or char == \"_\" or char == \"{\":\n",
        "    plaintext += char\n",
        "  else:\n",
        "    xco = int(char[0]) - 1\n",
        "    yco = int(char[2]) - 1\n",
        "    plaintext += chr(grid[xco][yco])\n",
        "\n",
        "print(plaintext)"
      ],
      "metadata": {
        "colab": {
          "base_uri": "https://localhost:8080/"
        },
        "id": "llUtqkHNIIsr",
        "outputId": "df426f15-9071-47ef-875d-fb1f440da07f"
      },
      "execution_count": 13,
      "outputs": [
        {
          "output_type": "stream",
          "name": "stdout",
          "text": [
            "CTF{THUMBS_UP}\n"
          ]
        }
      ]
    }
  ]
}