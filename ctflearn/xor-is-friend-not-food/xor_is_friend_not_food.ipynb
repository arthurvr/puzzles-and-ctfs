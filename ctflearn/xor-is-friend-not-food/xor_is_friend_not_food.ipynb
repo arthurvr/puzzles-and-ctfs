{
  "nbformat": 4,
  "nbformat_minor": 0,
  "metadata": {
    "colab": {
      "provenance": []
    },
    "kernelspec": {
      "name": "python3",
      "display_name": "Python 3"
    },
    "language_info": {
      "name": "python"
    }
  },
  "cells": [
    {
      "cell_type": "markdown",
      "source": [
        "# XOR Is Friend Not Food \n",
        "\n",
        "> Here: `\\t\\x1b\\x11\\x00\\x16\\x0b\\x1d\\x19\\x17\\x0b\\x05\\x1d(\\x05\\x005\\x1b\\x1f\\t,\\r\\x00\\x18\\x1c\\x0e`\n",
        "\n",
        "> I think the flag started with: `ctflearn{`.\n",
        "                                           \n",
        "Let's just XOR the known plaintext with the given ciphertext and hope we get a key.\n",
        "\n"
      ],
      "metadata": {
        "id": "_mBuIJYhZQMy"
      }
    },
    {
      "cell_type": "code",
      "source": [
        "given = b'\\t\\x1b\\x11\\x00\\x16\\x0b\\x1d\\x19\\x17\\x0b\\x05\\x1d(\\x05\\x005\\x1b\\x1f\\t,\\r\\x00\\x18\\x1c\\x0e'\n",
        "plaintext = b\"ctflearn{\"\n",
        "key = b\"\"\n",
        "\n",
        "for i in range(len(plaintext)):\n",
        "  key += bytes([given[i] ^ plaintext[i]])\n",
        "\n",
        "print(key)"
      ],
      "metadata": {
        "colab": {
          "base_uri": "https://localhost:8080/"
        },
        "id": "LBt7mUM3ZRAV",
        "outputId": "17cc574c-7f91-4c15-a13c-0fea796e36e5"
      },
      "execution_count": 3,
      "outputs": [
        {
          "output_type": "stream",
          "name": "stdout",
          "text": [
            "b'jowlsjowl'\n"
          ]
        }
      ]
    },
    {
      "cell_type": "markdown",
      "source": [
        "Seems like the key is a repeating sequence of `jowls` :) Let's try."
      ],
      "metadata": {
        "id": "U4unwMb4ZcHh"
      }
    },
    {
      "cell_type": "code",
      "source": [
        "plaintext = b\"\"\n",
        "key = b\"jowls\" * 100\n",
        "\n",
        "for i in range(len(given)):\n",
        "  plaintext += bytes([given[i] ^ key[i]])\n",
        "\n",
        "print(plaintext)"
      ],
      "metadata": {
        "colab": {
          "base_uri": "https://localhost:8080/"
        },
        "id": "CO-iSWMFZh_k",
        "outputId": "22a17cb6-3938-441c-f568-296c75dd29af"
      },
      "execution_count": 4,
      "outputs": [
        {
          "output_type": "stream",
          "name": "stdout",
          "text": [
            "b'ctflearn{xor_is_the_goop}'\n"
          ]
        }
      ]
    }
  ]
}
