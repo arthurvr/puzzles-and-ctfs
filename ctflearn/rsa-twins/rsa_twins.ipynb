{
  "nbformat": 4,
  "nbformat_minor": 0,
  "metadata": {
    "colab": {
      "provenance": []
    },
    "kernelspec": {
      "name": "python3",
      "display_name": "Python 3"
    },
    "language_info": {
      "name": "python"
    }
  },
  "cells": [
    {
      "cell_type": "markdown",
      "source": [
        "# RSA twins\n",
        "\n",
        "> Aww, twins :). They're so cute! They must be (almost) identical because they're the same except for the slightest difference. Anyway, see if you can find my flag. Hint: This is just math. You're probably not going to find any sort of specialized attack.\n",
        "\n",
        "These are the given numbers:"
      ],
      "metadata": {
        "id": "VFi19qhvUC2s"
      }
    },
    {
      "cell_type": "code",
      "source": [
        "n = 14783703403657671882600600446061886156235531325852194800287001788765221084107631153330658325830443132164971084137462046607458019775851952933254941568056899\n",
        "e = 65537\n",
        "c = 684151956678815994103733261966890872908254340972007896833477109225858676207046453897176861126186570268646592844185948487733725335274498844684380516667587"
      ],
      "metadata": {
        "id": "W3huwnH2Uai0"
      },
      "execution_count": 2,
      "outputs": []
    },
    {
      "cell_type": "code",
      "source": [
        "!pip install pycryptodome"
      ],
      "metadata": {
        "colab": {
          "base_uri": "https://localhost:8080/"
        },
        "id": "-Au1xYFGUox_",
        "outputId": "bca49998-18fe-4f3b-b7b3-e2bf380276f7"
      },
      "execution_count": 3,
      "outputs": [
        {
          "output_type": "stream",
          "name": "stdout",
          "text": [
            "Looking in indexes: https://pypi.org/simple, https://us-python.pkg.dev/colab-wheels/public/simple/\n",
            "Collecting pycryptodome\n",
            "  Downloading pycryptodome-3.17-cp35-abi3-manylinux_2_17_x86_64.manylinux2014_x86_64.whl (2.1 MB)\n",
            "\u001b[2K     \u001b[90m━━━━━━━━━━━━━━━━━━━━━━━━━━━━━━━━━━━━━━━━\u001b[0m \u001b[32m2.1/2.1 MB\u001b[0m \u001b[31m28.3 MB/s\u001b[0m eta \u001b[36m0:00:00\u001b[0m\n",
            "\u001b[?25hInstalling collected packages: pycryptodome\n",
            "Successfully installed pycryptodome-3.17\n"
          ]
        }
      ]
    },
    {
      "cell_type": "markdown",
      "source": [
        "Again, factordb to the rescue! See this [search result](http://factordb.com/index.php?query=14783703403657671882600600446061886156235531325852194800287001788765221084107631153330658325830443132164971084137462046607458019775851952933254941568056899)."
      ],
      "metadata": {
        "id": "swdxqeHqUxg5"
      }
    },
    {
      "cell_type": "code",
      "source": [
        "p = 121588253559534573498320028934517990374721243335397811413129137253981502291629\n",
        "q = 121588253559534573498320028934517990374721243335397811413129137253981502291631"
      ],
      "metadata": {
        "id": "TV4YQQtEU564"
      },
      "execution_count": 4,
      "outputs": []
    },
    {
      "cell_type": "markdown",
      "source": [
        "Twin primes! That would have helped a lot if we hadn't used factordb and tried to factor N algorithmically. Anyway, let's decrypt:"
      ],
      "metadata": {
        "id": "tQBvFdSYVGq1"
      }
    },
    {
      "cell_type": "code",
      "source": [
        "from Crypto.Util.number import long_to_bytes\n",
        "\n",
        "totient = (p - 1) * (q - 1)\n",
        "d = pow(e, -1, totient)\n",
        "plaintext = pow(c, d, n)\n",
        "print(long_to_bytes(plaintext))"
      ],
      "metadata": {
        "colab": {
          "base_uri": "https://localhost:8080/"
        },
        "id": "44-fCcTVVTbf",
        "outputId": "74253a3a-823c-481d-9a7b-bc0e7555fc92"
      },
      "execution_count": 6,
      "outputs": [
        {
          "output_type": "stream",
          "name": "stdout",
          "text": [
            "b'flag{i_l0v3_tw1N_pr1m3s}'\n"
          ]
        }
      ]
    }
  ]
}