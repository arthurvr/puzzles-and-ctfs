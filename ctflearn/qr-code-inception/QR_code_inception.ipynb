{
  "nbformat": 4,
  "nbformat_minor": 0,
  "metadata": {
    "colab": {
      "provenance": []
    },
    "kernelspec": {
      "name": "python3",
      "display_name": "Python 3"
    },
    "language_info": {
      "name": "python"
    }
  },
  "cells": [
    {
      "cell_type": "markdown",
      "source": [
        "# QR-code inception\n",
        "\n",
        "> My boss read in a magazine that people in China are using QR-codes to pay goods. He thinks it is the future and he wants QR-codes everywhere from the company website to his coffee machine. To meet my new boss requirements, he asked me to write an application generating QR-code. I spent days on it as scope always changes.\n",
        "\n",
        "> Thanks god, the week-end is there and I can forget about these QR-codes. Yesterday, I watched \"Inception\" by Christopher Nolan, it was great but the night after did not turn well and I got strange dreams.\n",
        "\n",
        "> I am sharing with you a picture I took during my dream (yes I can because I am a hacker). Welcome to my QR-code inception...\n",
        "\n",
        "In the given file, there are a lot of small QR codes (big enough to notice immediately on a high-res display)."
      ],
      "metadata": {
        "id": "l9cyq8Lsaepl"
      }
    },
    {
      "cell_type": "code",
      "execution_count": 2,
      "metadata": {
        "colab": {
          "base_uri": "https://localhost:8080/"
        },
        "id": "NrQiUgCuaZHi",
        "outputId": "a54fb225-be34-4c68-cc05-cfdaff2c77a0"
      },
      "outputs": [
        {
          "output_type": "stream",
          "name": "stdout",
          "text": [
            "  % Total    % Received % Xferd  Average Speed   Time    Time     Time  Current\n",
            "                                 Dload  Upload   Total   Spent    Left  Speed\n",
            "\r  0     0    0     0    0     0      0      0 --:--:-- --:--:-- --:--:--     0\r100  139k  100  139k    0     0  6345k      0 --:--:-- --:--:-- --:--:-- 6345k\n",
            "/content\n"
          ]
        }
      ],
      "source": [
        "!curl https://i.imgur.com/BuMwT9p.png > inception.png"
      ]
    },
    {
      "cell_type": "markdown",
      "source": [
        "I now need a script to scan them all separately."
      ],
      "metadata": {
        "id": "lw6R8vsubpTu"
      }
    },
    {
      "cell_type": "code",
      "source": [
        "!pip install numpy\n",
        "!pip install opencv-python\n",
        "!pip install zbar-py"
      ],
      "metadata": {
        "colab": {
          "base_uri": "https://localhost:8080/"
        },
        "id": "VL4Gbq9Hb45L",
        "outputId": "1493a6bd-fe63-418e-b124-2076f5075ae4"
      },
      "execution_count": 8,
      "outputs": [
        {
          "output_type": "stream",
          "name": "stdout",
          "text": [
            "Looking in indexes: https://pypi.org/simple, https://us-python.pkg.dev/colab-wheels/public/simple/\n",
            "Requirement already satisfied: numpy in /usr/local/lib/python3.9/dist-packages (1.22.4)\n",
            "Looking in indexes: https://pypi.org/simple, https://us-python.pkg.dev/colab-wheels/public/simple/\n",
            "Requirement already satisfied: opencv-python in /usr/local/lib/python3.9/dist-packages (4.7.0.72)\n",
            "Requirement already satisfied: numpy>=1.17.0 in /usr/local/lib/python3.9/dist-packages (from opencv-python) (1.22.4)\n",
            "Looking in indexes: https://pypi.org/simple, https://us-python.pkg.dev/colab-wheels/public/simple/\n",
            "Collecting zbar-py\n",
            "  Downloading zbar-py-1.0.4.tar.gz (543 kB)\n",
            "\u001b[2K     \u001b[90m━━━━━━━━━━━━━━━━━━━━━━━━━━━━━━━━━━━━━━\u001b[0m \u001b[32m543.9/543.9 kB\u001b[0m \u001b[31m24.6 MB/s\u001b[0m eta \u001b[36m0:00:00\u001b[0m\n",
            "\u001b[?25h  Preparing metadata (setup.py) ... \u001b[?25l\u001b[?25hdone\n",
            "Requirement already satisfied: numpy in /usr/local/lib/python3.9/dist-packages (from zbar-py) (1.22.4)\n",
            "Building wheels for collected packages: zbar-py\n",
            "  Building wheel for zbar-py (setup.py) ... \u001b[?25l\u001b[?25hdone\n",
            "  Created wheel for zbar-py: filename=zbar_py-1.0.4-cp39-cp39-linux_x86_64.whl size=239706 sha256=8d6b7f71a603422142bf0757de0a8bea6aa384f56cc1131f6c53cb3a0469f83c\n",
            "  Stored in directory: /root/.cache/pip/wheels/97/d3/d0/4eab20ed4c7932aea24720c1d7815dcf611f7e9ef0cd894227\n",
            "Successfully built zbar-py\n",
            "Installing collected packages: zbar-py\n",
            "Successfully installed zbar-py-1.0.4\n"
          ]
        }
      ]
    },
    {
      "cell_type": "code",
      "source": [
        "import base64\n",
        "import cv2\n",
        "import numpy as np\n",
        "import zbar\n",
        "\n",
        "size = 300\n",
        "scanner = zbar.Scanner()\n",
        "\n",
        "def scanQR(img):\n",
        "    img = np.bitwise_xor(img, ~img[0,0])\n",
        "    img = cv2.resize(img, (size * 5, size * 5), interpolation = cv2.INTER_AREA)\n",
        "    ret = scanner.scan(img)\n",
        "    return ret[0].data if ret else b''\n",
        "\n",
        "img = cv2.imread('inception.png', cv2.IMREAD_GRAYSCALE)\n",
        "width, height = img.shape\n",
        "\n",
        "msg = b''.join([scanQR(img[y:y+size, x:x+size])\n",
        "                    for y in range(0, height, size)\n",
        "                    for x in range(0, width, size)])\n",
        "\n",
        "print(msg.decode('utf-8'))"
      ],
      "metadata": {
        "colab": {
          "base_uri": "https://localhost:8080/"
        },
        "id": "R7r6vhN7bvQe",
        "outputId": "0bab489a-f47c-418f-ef6d-8ac8ca52f268"
      },
      "execution_count": 12,
      "outputs": [
        {
          "output_type": "stream",
          "name": "stdout",
          "text": [
            "CTFlearn is a dream. Is Cobb still dreaming? I hope you scripted the retrieval of this message because \"we need to go deeper\"... iVBORw0KGgoAAAANSUhEUgAAACUAAAAlAQAAAADt5R2uAAAAsUlEQVR4nGP4DwQ/GDDJD9IGDhUM369x3q9g+BJgdBFIRvQEAsnwKUD290uzgOIfREOBav5/jgSq/3T2sQtQb865mgqGn46fGn4wfLE/eqaC4VN/1jkgmVFdBdR7sripguGPMrfeD4ZvUhO1fjD8+P73JlAl58YDQPEfGxf/YPjuFcQINPOLSRHQDULCQUCRG6olQL0xh9lBLpkXAVQfM6sU6IYrr78B1Yga2mFzP5gEAB2SgeETXS+JAAAAAElFTkSuQmCC\n"
          ]
        }
      ]
    },
    {
      "cell_type": "markdown",
      "source": [
        "This last string is base64-encoded, but it's not text, it's an image again! I used an online [base64-to-image decoder](https://codebeautify.org/base64-to-image-converter), and got this:\n",
        "\n",
        "![](https://i.imgur.com/tF0r3Pp.png)\n",
        "\n",
        "When I scan this QR code I get `CTFlearn{Y0u_4re_in_QR-cOd3_l1mb0}`: the flag."
      ],
      "metadata": {
        "id": "kJrkJLaqdnH3"
      }
    }
  ]
}